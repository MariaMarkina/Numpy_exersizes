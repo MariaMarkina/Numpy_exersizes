{
 "cells": [
  {
   "cell_type": "code",
   "execution_count": 3,
   "metadata": {},
   "outputs": [
    {
     "name": "stdout",
     "output_type": "stream",
     "text": [
      "1j\n",
      "nan\n",
      "False\n"
     ]
    }
   ],
   "source": [
    "import numpy as np\n",
    "calculation_1 = np.emath.sqrt(-1)\n",
    "calculation_2  = np.sqrt(-1)\n",
    "print(calculation_1)\n",
    "print(calculation_2)\n",
    "print(calculation_1==calculation_2)\n",
    "#функция np.sqrt() поэлементно возвращает неотрицательный квадратный корень из массива, в то время как\n",
    "# np.emath.sqrt() - версия, которая возвращает комплексные числа при отрицательных действительных числах."
   ]
  },
  {
   "cell_type": "code",
   "execution_count": null,
   "metadata": {},
   "outputs": [],
   "source": []
  }
 ],
 "metadata": {
  "kernelspec": {
   "display_name": "Python 3",
   "language": "python",
   "name": "python3"
  },
  "language_info": {
   "codemirror_mode": {
    "name": "ipython",
    "version": 3
   },
   "file_extension": ".py",
   "mimetype": "text/x-python",
   "name": "python",
   "nbconvert_exporter": "python",
   "pygments_lexer": "ipython3",
   "version": "3.8.3"
  }
 },
 "nbformat": 4,
 "nbformat_minor": 4
}
