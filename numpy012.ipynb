{
 "cells": [
  {
   "cell_type": "code",
   "execution_count": 1,
   "metadata": {},
   "outputs": [
    {
     "name": "stdout",
     "output_type": "stream",
     "text": [
      "[[[0.92882534 0.68714459 0.95357272]\n",
      "  [0.80427802 0.5239352  0.5781412 ]\n",
      "  [0.17528913 0.0344862  0.69982994]]\n",
      "\n",
      " [[0.73337495 0.36231553 0.34544345]\n",
      "  [0.22308164 0.16385571 0.81779244]\n",
      "  [0.9079944  0.39786401 0.54647401]]\n",
      "\n",
      " [[0.89010566 0.88017717 0.63697332]\n",
      "  [0.53841563 0.39244547 0.51496899]\n",
      "  [0.69170521 0.87413542 0.91744723]]]\n"
     ]
    }
   ],
   "source": [
    "import numpy as np\n",
    "Rmatr = np.random.random((3,3,3))\n",
    "#Данная функция создает массив указанной формы и заполняет его случайными числами с плавающей точкой \n",
    "print(Rmatr)"
   ]
  },
  {
   "cell_type": "code",
   "execution_count": null,
   "metadata": {},
   "outputs": [],
   "source": []
  }
 ],
 "metadata": {
  "kernelspec": {
   "display_name": "Python 3",
   "language": "python",
   "name": "python3"
  },
  "language_info": {
   "codemirror_mode": {
    "name": "ipython",
    "version": 3
   },
   "file_extension": ".py",
   "mimetype": "text/x-python",
   "name": "python",
   "nbconvert_exporter": "python",
   "pygments_lexer": "ipython3",
   "version": "3.8.3"
  }
 },
 "nbformat": 4,
 "nbformat_minor": 4
}
