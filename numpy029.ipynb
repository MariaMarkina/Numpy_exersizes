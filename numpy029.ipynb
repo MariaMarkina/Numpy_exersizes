{
 "cells": [
  {
   "cell_type": "code",
   "execution_count": 14,
   "metadata": {},
   "outputs": [
    {
     "name": "stdout",
     "output_type": "stream",
     "text": [
      "[[5.20068734 9.28976439 8.33153194 9.11303421 3.28580811]\n",
      " [5.55686289 4.03983331 1.66522118 3.10795408 4.70770706]\n",
      " [3.56029866 2.84631811 4.95440628 8.9975507  7.66435159]\n",
      " [1.05239796 9.48933388 4.43226094 1.78391724 7.74907987]\n",
      " [7.6246333  4.01715933 2.7472071  1.39459759 2.05686441]]\n",
      "[[5. 9. 8. 9. 3.]\n",
      " [5. 4. 1. 3. 4.]\n",
      " [3. 2. 4. 8. 7.]\n",
      " [1. 9. 4. 1. 7.]\n",
      " [7. 4. 2. 1. 2.]]\n"
     ]
    }
   ],
   "source": [
    "import numpy as np\n",
    "massiv = np.random.uniform(0, 10, [5, 5])\n",
    "print(massiv)\n",
    "round_mass = np.fix(massiv)\n",
    "#Функция fix() округляет до ближайшего к нулю целого числа\n",
    "print(round_mass)"
   ]
  },
  {
   "cell_type": "code",
   "execution_count": null,
   "metadata": {},
   "outputs": [],
   "source": []
  },
  {
   "cell_type": "code",
   "execution_count": null,
   "metadata": {},
   "outputs": [],
   "source": []
  }
 ],
 "metadata": {
  "kernelspec": {
   "display_name": "Python 3",
   "language": "python",
   "name": "python3"
  },
  "language_info": {
   "codemirror_mode": {
    "name": "ipython",
    "version": 3
   },
   "file_extension": ".py",
   "mimetype": "text/x-python",
   "name": "python",
   "nbconvert_exporter": "python",
   "pygments_lexer": "ipython3",
   "version": "3.8.3"
  }
 },
 "nbformat": 4,
 "nbformat_minor": 4
}
