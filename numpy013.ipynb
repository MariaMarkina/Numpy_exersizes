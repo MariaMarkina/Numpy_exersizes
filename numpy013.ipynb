{
 "cells": [
  {
   "cell_type": "code",
   "execution_count": 9,
   "metadata": {},
   "outputs": [
    {
     "name": "stdout",
     "output_type": "stream",
     "text": [
      "0.027629453102290036 0.9884098229082392\n"
     ]
    }
   ],
   "source": [
    "import numpy as np\n",
    "matrica = np.random.random((10,10))\n",
    "min_znach, max_znach = np.min(matrica), np.max(matrica)\n",
    "#Функция max() возвращает максимальное значение в массиве\n",
    "print(min_znach, max_znach)"
   ]
  },
  {
   "cell_type": "code",
   "execution_count": null,
   "metadata": {},
   "outputs": [],
   "source": []
  }
 ],
 "metadata": {
  "kernelspec": {
   "display_name": "Python 3",
   "language": "python",
   "name": "python3"
  },
  "language_info": {
   "codemirror_mode": {
    "name": "ipython",
    "version": 3
   },
   "file_extension": ".py",
   "mimetype": "text/x-python",
   "name": "python",
   "nbconvert_exporter": "python",
   "pygments_lexer": "ipython3",
   "version": "3.8.3"
  }
 },
 "nbformat": 4,
 "nbformat_minor": 4
}
