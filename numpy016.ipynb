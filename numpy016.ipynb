{
 "cells": [
  {
   "cell_type": "code",
   "execution_count": 35,
   "metadata": {},
   "outputs": [
    {
     "name": "stdout",
     "output_type": "stream",
     "text": [
      "[[0.         0.         0.         0.        ]\n",
      " [0.         0.19594591 0.45427462 0.        ]\n",
      " [0.         0.05029583 0.1915441  0.        ]\n",
      " [0.         0.         0.         0.        ]]\n"
     ]
    }
   ],
   "source": [
    "import numpy as np\n",
    "\n",
    "X = np.random.uniform(size=(2,2))\n",
    "n,m = X.shape # for generality\n",
    "X0 = np.zeros((n,1))\n",
    "X1 = np.zeros((1, m))\n",
    "Xnew = np.hstack((X,X0))\n",
    "Xnew_1 = np.hstack((X0, Xnew))\n",
    "Xnew_2 = np.insert([Xnew_1], [0], [0, 0, 0, 0])\n",
    "Xnew_2 = np.reshape(Xnew_2, (3,4))\n",
    "Xnew_3 = np.insert([Xnew_2], [12], [0, 0, 0, 0])\n",
    "print(np.reshape(Xnew_3, (4,4)))"
   ]
  },
  {
   "cell_type": "code",
   "execution_count": null,
   "metadata": {},
   "outputs": [],
   "source": []
  },
  {
   "cell_type": "code",
   "execution_count": null,
   "metadata": {},
   "outputs": [],
   "source": []
  }
 ],
 "metadata": {
  "kernelspec": {
   "display_name": "Python 3",
   "language": "python",
   "name": "python3"
  },
  "language_info": {
   "codemirror_mode": {
    "name": "ipython",
    "version": 3
   },
   "file_extension": ".py",
   "mimetype": "text/x-python",
   "name": "python",
   "nbconvert_exporter": "python",
   "pygments_lexer": "ipython3",
   "version": "3.8.3"
  }
 },
 "nbformat": 4,
 "nbformat_minor": 4
}
