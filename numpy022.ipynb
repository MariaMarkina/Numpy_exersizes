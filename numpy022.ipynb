{
 "cells": [
  {
   "cell_type": "code",
   "execution_count": 5,
   "metadata": {},
   "outputs": [
    {
     "name": "stdout",
     "output_type": "stream",
     "text": [
      "Сгенерированная матрица\n",
      "[[0.01890032 0.57658864 0.30088983 0.05963988 0.20197334]\n",
      " [0.89522545 0.48309494 0.54344106 0.96843761 0.45909176]\n",
      " [0.18264158 0.82511523 0.31361203 0.666052   0.05029954]\n",
      " [0.72469852 0.5673892  0.63236849 0.65034946 0.46382113]\n",
      " [0.24890051 0.13958749 0.71232219 0.34261656 0.50566827]]\n",
      "Нормализованная матрица\n",
      "[[0.         0.58732641 0.29697571 0.04290465 0.19280235]\n",
      " [0.92289702 0.48886403 0.55241722 1.         0.46358521]\n",
      " [0.17244322 0.84906082 0.31037402 0.68154425 0.03306791]\n",
      " [0.74330751 0.57763806 0.64607065 0.66500721 0.46856592]\n",
      " [0.24222344 0.12710103 0.73027345 0.34091999 0.51263701]]\n"
     ]
    }
   ],
   "source": [
    "import numpy as np\n",
    "matrica_do= np.random.random((5,5))\n",
    "print(\"Сгенерированная матрица\")\n",
    "print(matrica_do)\n",
    "znach_max, znach_min = np.max(matrica_do), np.min(matrica_do)\n",
    "matrica_posle = (matrica_do- znach_min)/(znach_max - znach_min)\n",
    "print(\"Нормализованная матрица\")\n",
    "print(matrica_posle)"
   ]
  },
  {
   "cell_type": "code",
   "execution_count": null,
   "metadata": {},
   "outputs": [],
   "source": []
  }
 ],
 "metadata": {
  "kernelspec": {
   "display_name": "Python 3",
   "language": "python",
   "name": "python3"
  },
  "language_info": {
   "codemirror_mode": {
    "name": "ipython",
    "version": 3
   },
   "file_extension": ".py",
   "mimetype": "text/x-python",
   "name": "python",
   "nbconvert_exporter": "python",
   "pygments_lexer": "ipython3",
   "version": "3.8.3"
  }
 },
 "nbformat": 4,
 "nbformat_minor": 4
}
