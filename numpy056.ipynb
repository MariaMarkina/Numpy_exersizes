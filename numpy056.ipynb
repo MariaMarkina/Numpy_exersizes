{
 "cells": [
  {
   "cell_type": "code",
   "execution_count": 2,
   "metadata": {},
   "outputs": [
    {
     "name": "stdout",
     "output_type": "stream",
     "text": [
      "[0.72175492 0.94072907 0.9885095  0.51623446 0.64970661 0.86277492\n",
      " 0.62749881 0.97687356 0.89310895 0.62256624]\n"
     ]
    }
   ],
   "source": [
    "import numpy as np\n",
    "k = np.random.random((10,2)) \n",
    "x, y = k[:,0], k[:,1]\n",
    "\n",
    "des = np.sqrt(x*x+y*y)\n",
    "sigma = 1\n",
    "mu = 0\n",
    "gaus = np.exp(-1*((des-mu)**2 / (2 * sigma**2)))\n",
    "\n",
    "print(gaus)"
   ]
  },
  {
   "cell_type": "code",
   "execution_count": null,
   "metadata": {},
   "outputs": [],
   "source": []
  }
 ],
 "metadata": {
  "kernelspec": {
   "display_name": "Python 3",
   "language": "python",
   "name": "python3"
  },
  "language_info": {
   "codemirror_mode": {
    "name": "ipython",
    "version": 3
   },
   "file_extension": ".py",
   "mimetype": "text/x-python",
   "name": "python",
   "nbconvert_exporter": "python",
   "pygments_lexer": "ipython3",
   "version": "3.8.3"
  }
 },
 "nbformat": 4,
 "nbformat_minor": 4
}
