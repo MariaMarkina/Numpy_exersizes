{
 "cells": [
  {
   "cell_type": "code",
   "execution_count": 1,
   "metadata": {},
   "outputs": [
    {
     "name": "stdout",
     "output_type": "stream",
     "text": [
      "[4. 8. 3. 4. 0. 0. 3. 2. 2. 9.]\n",
      "[4. 8. 3. 4. 0. 0. 3. 2. 2. 9.]\n",
      "[4. 8. 3. 4. 0. 0. 3. 2. 2. 9.]\n",
      "[4. 8. 3. 4. 0. 0. 3. 2. 2. 9.]\n"
     ]
    }
   ],
   "source": [
    "import numpy as np\n",
    "Z = np.random.uniform(0,10,10)\n",
    "print (Z - Z%1)\n",
    "# Из числа Z вычитаем остаток от деления на еденицу.\n",
    "print (np.floor(Z))\n",
    "#Функция floor() выполняет округление к меньшему целому числу.\n",
    "print (np.ceil(Z)-1)\n",
    "# Функция ceil() округляет к большему целому числу, а затем мы вычтем еденицу.\n",
    "print (np.trunc(Z))\n",
    "#Функция trunc() отбрасывает дробную часть числа.\n",
    "\n",
    " "
   ]
  },
  {
   "cell_type": "code",
   "execution_count": null,
   "metadata": {},
   "outputs": [],
   "source": []
  }
 ],
 "metadata": {
  "kernelspec": {
   "display_name": "Python 3",
   "language": "python",
   "name": "python3"
  },
  "language_info": {
   "codemirror_mode": {
    "name": "ipython",
    "version": 3
   },
   "file_extension": ".py",
   "mimetype": "text/x-python",
   "name": "python",
   "nbconvert_exporter": "python",
   "pygments_lexer": "ipython3",
   "version": "3.8.3"
  }
 },
 "nbformat": 4,
 "nbformat_minor": 4
}
