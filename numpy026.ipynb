{
 "cells": [
  {
   "cell_type": "code",
   "execution_count": 8,
   "metadata": {},
   "outputs": [
    {
     "name": "stdout",
     "output_type": "stream",
     "text": [
      "10\n",
      "10\n"
     ]
    }
   ],
   "source": [
    "print(sum(range(5),-1))\n",
    "from numpy import *\n",
    "\n",
    "print(sum(range(5),-1))"
   ]
  },
  {
   "cell_type": "code",
   "execution_count": 9,
   "metadata": {},
   "outputs": [],
   "source": [
    "#в первом случае  получается 9, так как мы суммируем -1+0+1+2+3+4: числа из range и -1,\n",
    "#так как -1 есть число старта функции sum(iterable, start).\n",
    "#функция np.sum устроена иначе: numpy.sum(a, axis=None).По умолчанию axis = None, что соответствует суммированию\n",
    "#всех элементов массива. Если указано отрицательное число,\n",
    "#то номер оси отсчитывается от последней оси по направлению к первой, что говорит о том,\n",
    "#что нашу строку мы будем суммировать с последнего числа картежа(0, 1, 2, 3, 4). А это 10"
   ]
  },
  {
   "cell_type": "code",
   "execution_count": null,
   "metadata": {},
   "outputs": [],
   "source": []
  }
 ],
 "metadata": {
  "kernelspec": {
   "display_name": "Python 3",
   "language": "python",
   "name": "python3"
  },
  "language_info": {
   "codemirror_mode": {
    "name": "ipython",
    "version": 3
   },
   "file_extension": ".py",
   "mimetype": "text/x-python",
   "name": "python",
   "nbconvert_exporter": "python",
   "pygments_lexer": "ipython3",
   "version": "3.8.3"
  }
 },
 "nbformat": 4,
 "nbformat_minor": 4
}
