{
 "cells": [
  {
   "cell_type": "code",
   "execution_count": 1,
   "metadata": {},
   "outputs": [
    {
     "name": "stdout",
     "output_type": "stream",
     "text": [
      "[[ 1.  2.  3.  4.  5.]\n",
      " [ 6. nan nan  7.  8.]\n",
      " [nan nan  9. 10. 11.]]\n"
     ]
    }
   ],
   "source": [
    "import numpy as np\n",
    "from io import StringIO as st\n",
    "s = st(\"\"\"1, 2, 3, 4, 5\\n\n",
    "6, , , 7, 8\\n\n",
    ", , 9,10,11\\n\"\"\")\n",
    "a = np.genfromtxt(s, delimiter=\",\")\n",
    "\n",
    "print(a)\n",
    "# Модуль StringIO нужен для операции ввода-вывода для строковых данных. Он аналогичен read() и write(), но\n",
    "#дает нам гораздо больше гибкости в отношении этих операций.\n",
    "#Функция genfromtxt() загружает данные из текстового файла с указанием правил обработки \n",
    "# delimiter - Задает разделитель между элементами (столбцами) массива.\n",
    " "
   ]
  },
  {
   "cell_type": "code",
   "execution_count": null,
   "metadata": {},
   "outputs": [],
   "source": []
  }
 ],
 "metadata": {
  "kernelspec": {
   "display_name": "Python 3",
   "language": "python",
   "name": "python3"
  },
  "language_info": {
   "codemirror_mode": {
    "name": "ipython",
    "version": 3
   },
   "file_extension": ".py",
   "mimetype": "text/x-python",
   "name": "python",
   "nbconvert_exporter": "python",
   "pygments_lexer": "ipython3",
   "version": "3.8.3"
  }
 },
 "nbformat": 4,
 "nbformat_minor": 4
}
