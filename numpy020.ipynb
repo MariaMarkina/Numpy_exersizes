{
 "cells": [
  {
   "cell_type": "code",
   "execution_count": 2,
   "metadata": {},
   "outputs": [
    {
     "name": "stdout",
     "output_type": "stream",
     "text": [
      "(1, 5, 4)\n"
     ]
    }
   ],
   "source": [
    "import numpy as np\n",
    "index = np.unravel_index(100, (6,7,8))\n",
    "#Функция unravel_index(indices, shape) преобразует плоский массив индексов в кортеж массивов индексов.\n",
    "#Данная функция позволяет получить индексы элементов многомерного массива по индексам\n",
    "#тех же самых элементов в его плоском представлении\n",
    "#indices - ндексы элементов в плоском представлении массива;  shape - oпределяет форму многомерного массива\n",
    "print(index)"
   ]
  },
  {
   "cell_type": "code",
   "execution_count": null,
   "metadata": {},
   "outputs": [],
   "source": []
  }
 ],
 "metadata": {
  "kernelspec": {
   "display_name": "Python 3",
   "language": "python",
   "name": "python3"
  },
  "language_info": {
   "codemirror_mode": {
    "name": "ipython",
    "version": 3
   },
   "file_extension": ".py",
   "mimetype": "text/x-python",
   "name": "python",
   "nbconvert_exporter": "python",
   "pygments_lexer": "ipython3",
   "version": "3.8.3"
  }
 },
 "nbformat": 4,
 "nbformat_minor": 4
}
