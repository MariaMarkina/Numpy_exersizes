{
 "cells": [
  {
   "cell_type": "code",
   "execution_count": 1,
   "metadata": {},
   "outputs": [
    {
     "name": "stdout",
     "output_type": "stream",
     "text": [
      "[[ 0.12126451  0.04208023 -0.17666269 -0.39922881 -0.06138505 -0.15233338\n",
      "   0.0159033   0.0220516   0.19702778  0.3912825 ]\n",
      " [ 0.26234316  0.16383077 -0.59997022 -0.38566006  0.36971531  0.08116643\n",
      "   0.07738872  0.09430689 -0.27986097  0.21673997]\n",
      " [ 0.38439663  0.01645141 -0.32283442  0.35272681 -0.38342328 -0.41064293\n",
      "   0.40150421 -0.18877202  0.42009194 -0.26949835]\n",
      " [-0.11389097  0.33267623 -0.00204097 -0.2359646  -0.10093048 -0.23605147\n",
      "  -0.10804132 -0.19166629  0.07384068  0.58206917]\n",
      " [-0.14161972  0.25076151  0.30200993 -0.01761386 -0.05064757 -0.13327017\n",
      "  -0.27268315 -0.00560204 -0.10368944  0.17235449]]\n"
     ]
    }
   ],
   "source": [
    "import numpy as np\n",
    "X = np.random.rand(5, 10)\n",
    "Y = X - X.mean(axis=1, keepdims=True)\n",
    "Y = X - X.mean(axis=1).reshape(-1, 1)\n",
    "print(Y)"
   ]
  },
  {
   "cell_type": "code",
   "execution_count": null,
   "metadata": {},
   "outputs": [],
   "source": []
  }
 ],
 "metadata": {
  "kernelspec": {
   "display_name": "Python 3",
   "language": "python",
   "name": "python3"
  },
  "language_info": {
   "codemirror_mode": {
    "name": "ipython",
    "version": 3
   },
   "file_extension": ".py",
   "mimetype": "text/x-python",
   "name": "python",
   "nbconvert_exporter": "python",
   "pygments_lexer": "ipython3",
   "version": "3.8.3"
  }
 },
 "nbformat": 4,
 "nbformat_minor": 4
}
